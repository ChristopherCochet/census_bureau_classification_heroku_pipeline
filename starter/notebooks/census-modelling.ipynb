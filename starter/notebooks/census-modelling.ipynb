{
 "cells": [
  {
   "cell_type": "markdown",
   "id": "1d5ba16a",
   "metadata": {},
   "source": [
    "# Model the Census Bureau Data - a binary classification (salary category)"
   ]
  },
  {
   "cell_type": "markdown",
   "id": "12f55843",
   "metadata": {},
   "source": [
    "## import libraries"
   ]
  },
  {
   "cell_type": "code",
   "execution_count": 254,
   "id": "62146337",
   "metadata": {},
   "outputs": [],
   "source": [
    "import pandas as pd\n",
    "import numpy as np\n",
    "import dill as pickle\n",
    "import matplotlib.pyplot as plt\n",
    "from sklearn.ensemble import RandomForestClassifier, GradientBoostingClassifier\n",
    "from sklearn.model_selection import cross_val_score\n",
    "from sklearn.utils import shuffle\n",
    "from sklearn.metrics import roc_auc_score, roc_curve\n",
    "from sklearn.linear_model import LogisticRegression\n",
    "from sklearn.pipeline import make_pipeline\n",
    "from sklearn.preprocessing import FunctionTransformer, OneHotEncoder, LabelBinarizer\n",
    "from sklearn.compose import make_column_transformer, ColumnTransformer\n",
    "from sklearn.pipeline import Pipeline"
   ]
  },
  {
   "cell_type": "markdown",
   "id": "a9b87995",
   "metadata": {},
   "source": [
    "## Helper Functions"
   ]
  },
  {
   "cell_type": "code",
   "execution_count": 255,
   "id": "90c96c8d",
   "metadata": {},
   "outputs": [],
   "source": [
    "def load_file(file):\n",
    "    '''loads csv to pd dataframe'''\n",
    "    return pd.read_csv(file)\n",
    "\n",
    "# def one_hot_encode_feature_df(df, cat_vars=None, num_vars=None):\n",
    "#     '''performs one-hot encoding on all categorical variables and combines result with continuous variables'''\n",
    "#     cat_df = pd.get_dummies(df[cat_vars])\n",
    "#     num_df = df[num_vars].apply(pd.to_numeric)\n",
    "#     return pd.concat([cat_df, num_df], axis=1)#,ignore_index=False)\n",
    "\n",
    "def get_columns_from_transformer(column_transformer, input_colums):    \n",
    "    col_name = []\n",
    "\n",
    "    for transformer_in_columns in column_transformer.transformers_: #the last transformer is ColumnTransformer's 'remainder'\n",
    "        raw_col_name = transformer_in_columns[2]\n",
    "        if isinstance(transformer_in_columns[1],Pipeline): \n",
    "            transformer = transformer_in_columns[1].steps[-1][1]\n",
    "        else:\n",
    "            transformer = transformer_in_columns[1]\n",
    "        try:\n",
    "            names = transformer.get_feature_names(raw_col_name)\n",
    "        except AttributeError: # if no 'get_feature_names' function, use raw column name\n",
    "            names = raw_col_name\n",
    "        if isinstance(names,np.ndarray): # eg.\n",
    "            col_name += names.tolist()\n",
    "        elif isinstance(names,list):\n",
    "            col_name += names    \n",
    "        elif isinstance(names,str):\n",
    "            col_name.append(names)\n",
    "\n",
    "    # print(col_name)\n",
    "    return col_name\n",
    "\n",
    "\n",
    "def one_hot_encode_feature_df(df, col_transformer):\n",
    "    '''performs one-hot encoding on all categorical variables and combines result with continuous variables'''\n",
    "    processed_df = pd.DataFrame.sparse.from_spmatrix(col_transformer.transform(df))\n",
    "    processed_df.columns = get_columns_from_transformer(col_transformer, df.columns)\n",
    "    return(processed_df)\n",
    "\n",
    "def generate_feature_encoding(df, cat_vars=None, num_vars=None):\n",
    "    '''performs one-hot encoding on all categorical variables and combines result with continuous variables'''\n",
    "    ohe = OneHotEncoder()\n",
    "    numft = FunctionTransformer(lambda x: x.apply(pd.to_numeric), accept_sparse=True)\n",
    "    ct = ColumnTransformer(\n",
    "        [\n",
    "            (\"ohe\", ohe, cat_vars), \n",
    "            (\"nuft\", numft, num_vars)\n",
    "        ],  \n",
    "        remainder='drop')\n",
    "    \n",
    "    ct.fit(df)\n",
    "    return (ct)\n",
    "\n",
    "def get_target_df(df, target):\n",
    "    '''returns target dataframe'''\n",
    "    df.pop(target_var)\n",
    "    return df[target]\n",
    "\n",
    "def train_model(model, feature_df, target_df, num_procs, roc_auc_dict, cv_std):\n",
    "    '''performs cross validation with the model provided ad stores results in dictionaries'''\n",
    "    roc_auc = cross_val_score(model, feature_df, target_df, cv=5, n_jobs=num_procs, scoring='roc_auc_ovr')\n",
    "    roc_auc_dict[model] = roc_auc\n",
    "    cv_std[model] = np.std(roc_auc)\n",
    "    # import sklearn.metrics\n",
    "    # sorted(sklearn.metrics.SCORERS.keys())\n",
    "\n",
    "def get_best_model(roc_auc_dict):\n",
    "    '''return the model with the best performance'''\n",
    "    best_score = 0\n",
    "    for key, value in roc_auc_dict.items():\n",
    "        if np.mean(value) >= best_score:\n",
    "            model = key\n",
    "    print('\\nModel with highest roc_auc:')\n",
    "    print(model)\n",
    "    return(model)\n",
    "\n",
    "def print_summary(model, roc_auc_dict, cv_std):\n",
    "    '''prints performance of the model provided'''\n",
    "    print('\\nModel:\\n', model)\n",
    "    print('Average roc_auc :\\n', roc_auc_dict[model])\n",
    "    print('Standard deviation during CV:\\n', cv_std[model])\n",
    "\n",
    "# resource: https://machinelearningmastery.com/roc-curves-and-precision-recall-curves-for-classification-in-python/\n",
    "def plot_results(model, feature_df, target_df):\n",
    "    '''plot roc curve of model provided'''\n",
    "    \n",
    "    # binarize label - 0, 1\n",
    "    lb = LabelBinarizer()\n",
    "    target_binary_df = lb.fit_transform(target_df)\n",
    "\n",
    "    # generate a no skill prediction (majority class)\n",
    "    ns_probs = [0 for _ in range(len(target_binary_df))]\n",
    "    # predict probabilities\n",
    "    model_probs = model.predict_proba(feature_df)\n",
    "    # keep probabilities for the positive outcome only\n",
    "    model_probs = model_probs[:, 1]\n",
    "\n",
    "    # calculate scores\n",
    "    ns_auc = roc_auc_score(target_df, ns_probs)\n",
    "    model_auc = roc_auc_score(target_df, model_probs)\n",
    "\n",
    "    # summarize scores\n",
    "    print('No Skill: ROC AUC=%.3f' % (ns_auc))\n",
    "    print(str(model)+': ROC AUC=%.3f' % (model_auc))\n",
    "    \n",
    "    # calculate roc curves\n",
    "    ns_fpr, ns_tpr, _ = roc_curve(target_binary_df, ns_probs)\n",
    "    model_fpr, model_tpr, _ = roc_curve(target_binary_df, model_probs)\n",
    "    \n",
    "    # plot the roc curve for the model\n",
    "    plt.plot(ns_fpr, ns_tpr, linestyle='--', label='No Skill')\n",
    "    plt.plot(model_fpr, model_tpr, marker='.', label=str(model))\n",
    "        # axis labels\n",
    "    plt.xlabel('False Positive Rate')\n",
    "    plt.ylabel('True Positive Rate')\n",
    "    # show the legend\n",
    "    plt.legend(loc='center left', bbox_to_anchor=(1, 0.5))\n",
    "    # show the plot\n",
    "    plt.show()\n",
    "\n",
    "def save_results(model, feature_encoding_transformer, roc_auc_dict, feature_importances, model_dir):\n",
    "    '''saves feature_encoding , model summary, feature importances'''\n",
    "\n",
    "    # model\n",
    "    encoding_file_name = 'census_feature_encoding.pkl'\n",
    "    pickle.dump(feature_encoding_transformer, open(model_dir + encoding_file_name, 'wb'))\n",
    "    \n",
    "    # Model name   \n",
    "    with open(model_dir+'model.txt', 'w') as file:\n",
    "        file.write(str(model))\n",
    "    \n",
    "    # model\n",
    "    model_file_name = 'census_model.pkl'\n",
    "    pickle.dump(model, open(model_dir + model_file_name, 'wb'))\n",
    "    \n",
    "    # feature importance\n",
    "    feature_importances.to_csv(model_dir+'feature_importances.csv') "
   ]
  },
  {
   "cell_type": "markdown",
   "id": "9cd5f3ca",
   "metadata": {},
   "source": [
    "## Data Loading and Preprocessing"
   ]
  },
  {
   "cell_type": "code",
   "execution_count": 262,
   "id": "0a98df27",
   "metadata": {},
   "outputs": [
    {
     "name": "stdout",
     "output_type": "stream",
     "text": [
      "Loading data\n",
      "Shuffling data\n"
     ]
    },
    {
     "data": {
      "text/plain": [
       "Index(['age', 'workclass', 'fnlgt', 'education', 'education-num',\n",
       "       'marital-status', 'occupation', 'relationship', 'race', 'sex',\n",
       "       'capital-gain', 'capital-loss', 'hours-per-week', 'native-country',\n",
       "       'salary'],\n",
       "      dtype='object')"
      ]
     },
     "metadata": {},
     "output_type": "display_data"
    },
    {
     "name": "stdout",
     "output_type": "stream",
     "text": [
      "Retrieving labels\n",
      "Encoding data\n"
     ]
    }
   ],
   "source": [
    "#define inputs\n",
    "train_file = '../data/census_clean.csv'\n",
    "model_dir = '../model/'\n",
    "\n",
    "#define variables\n",
    "cat_features = [\n",
    "    \"workclass\",\n",
    "    \"education\",\n",
    "    \"marital-status\",\n",
    "    \"occupation\",\n",
    "    \"relationship\",\n",
    "    \"race\",\n",
    "    \"sex\",\n",
    "    \"native-country\",\n",
    "]\n",
    "numeric_features = [\"age\",\"fnlgt\",\"education-num\",\"capital-gain\",\"capital-loss\",\"hours-per-week\"]\n",
    "target_var = \"salary\"\n",
    "\n",
    "# load data\n",
    "print(\"Loading data\")\n",
    "train_df = load_file(train_file)\n",
    "\n",
    "\n",
    "# shuffle, and reindex training data -- shuffling improves cross-validation accuracy\n",
    "print(\"Shuffling data\")\n",
    "train_df = shuffle(train_df)\n",
    "display(train_df.columns)\n",
    "\n",
    "# get target df\n",
    "print(\"Retrieving labels\")\n",
    "target_df = train_df.pop(target_var)\n",
    "\n",
    "# encode categorical data and get final feature dfs\n",
    "print(\"Encoding data\")\n",
    "ct = generate_feature_encoding(\n",
    "    train_df, cat_vars=cat_features, num_vars=numeric_features\n",
    ")\n",
    "feature_df = one_hot_encode_feature_df(train_df, ct)\n",
    "\n",
    "#ct.transformers_\n",
    "#ct.named_transformers_[\"ohe\"].get_feature_names()\n",
    "#ct.named_transformers_[\"nuft\"]\n",
    "#get_columns_from_transformer(ct, train_df.columns)\n",
    "#ct.transformers_[-1][1]\n",
    "#ct.named_transformers_[\"ohe\"]"
   ]
  },
  {
   "cell_type": "code",
   "execution_count": 263,
   "id": "d22288b6",
   "metadata": {},
   "outputs": [
    {
     "data": {
      "text/plain": [
       "Index(['age', 'workclass', 'fnlgt', 'education', 'education-num',\n",
       "       'marital-status', 'occupation', 'relationship', 'race', 'sex',\n",
       "       'capital-gain', 'capital-loss', 'hours-per-week', 'native-country'],\n",
       "      dtype='object')"
      ]
     },
     "execution_count": 263,
     "metadata": {},
     "output_type": "execute_result"
    }
   ],
   "source": [
    "train_df.columns\n"
   ]
  },
  {
   "cell_type": "markdown",
   "id": "8db29ba8",
   "metadata": {},
   "source": [
    "## Modelling"
   ]
  },
  {
   "cell_type": "markdown",
   "id": "610cb937",
   "metadata": {},
   "source": [
    "### Initialize model variables"
   ]
  },
  {
   "cell_type": "code",
   "execution_count": 264,
   "id": "6a6c5d79",
   "metadata": {},
   "outputs": [],
   "source": [
    "#initialize model list and dicts\n",
    "models = []\n",
    "roc_auc_dict = {}\n",
    "cv_std = {}\n",
    "res = {}\n",
    "\n",
    "#define number of processes to run in parallel\n",
    "num_procs = -1\n",
    "\n",
    "#shared model paramaters\n",
    "verbose_lvl = 0"
   ]
  },
  {
   "cell_type": "markdown",
   "id": "38a6e946",
   "metadata": {},
   "source": [
    "### Cross validation"
   ]
  },
  {
   "cell_type": "code",
   "execution_count": 265,
   "id": "685f1eb6",
   "metadata": {},
   "outputs": [
    {
     "name": "stdout",
     "output_type": "stream",
     "text": [
      "Beginning cross validation\n",
      "\n",
      "Model:\n",
      " RandomForestClassifier(max_depth=25, max_features=30, min_samples_split=60,\n",
      "                       n_estimators=150, n_jobs=-1)\n",
      "Average roc_auc :\n",
      " [0.91013174 0.91834444 0.915296   0.91684945 0.92265875]\n",
      "Standard deviation during CV:\n",
      " 0.004082567414809937\n",
      "\n",
      "Model:\n",
      " GradientBoostingClassifier(loss='exponential', max_depth=5, n_estimators=150)\n",
      "Average roc_auc :\n",
      " [0.92210665 0.92943992 0.92780595 0.92664311 0.93421009]\n",
      "Standard deviation during CV:\n",
      " 0.003930406166682518\n"
     ]
    }
   ],
   "source": [
    "#create models -- hyperparameter tuning already done by hand for each model\n",
    "rf = RandomForestClassifier(n_estimators=150, n_jobs=num_procs, max_depth=25, min_samples_split=60, \\\n",
    "                           max_features=30, verbose=verbose_lvl)\n",
    "\n",
    "gbc = GradientBoostingClassifier(n_estimators=150, max_depth=5, loss='exponential', verbose=verbose_lvl)                           \n",
    "\n",
    "models.extend([rf, gbc])\n",
    "\n",
    "#parallel cross-validate models, using MSE as evaluation metric, and print summaries\n",
    "print(\"Beginning cross validation\")\n",
    "for model in models:\n",
    "    train_model(model, feature_df, target_df, num_procs, roc_auc_dict, cv_std)\n",
    "    print_summary(model, roc_auc_dict, cv_std)"
   ]
  },
  {
   "cell_type": "markdown",
   "id": "e4038141",
   "metadata": {},
   "source": [
    "### Pick Best Performing model"
   ]
  },
  {
   "cell_type": "code",
   "execution_count": 266,
   "id": "a0e4f71e",
   "metadata": {},
   "outputs": [
    {
     "name": "stdout",
     "output_type": "stream",
     "text": [
      "\n",
      "Model with highest roc_auc:\n",
      "GradientBoostingClassifier(loss='exponential', max_depth=5, n_estimators=150)\n",
      "Fit best performing model\n"
     ]
    },
    {
     "data": {
      "text/plain": [
       "GradientBoostingClassifier(loss='exponential', max_depth=5, n_estimators=150)"
      ]
     },
     "execution_count": 266,
     "metadata": {},
     "output_type": "execute_result"
    }
   ],
   "source": [
    "# choose model with best auc_roc\n",
    "best_model = get_best_model(roc_auc_dict)\n",
    "\n",
    "# train best model on entire dataset\n",
    "print(\"Fit best performing model\")\n",
    "best_model.fit(feature_df, target_df)"
   ]
  },
  {
   "cell_type": "code",
   "execution_count": 267,
   "id": "daed12ea",
   "metadata": {},
   "outputs": [
    {
     "name": "stdout",
     "output_type": "stream",
     "text": [
      "No Skill: ROC AUC=0.500\n",
      "GradientBoostingClassifier(loss='exponential', max_depth=5, n_estimators=150): ROC AUC=0.942\n"
     ]
    },
    {
     "data": {
      "image/png": "[encoded data removed]",
      "text/plain": [
       "<Figure size 432x288 with 1 Axes>"
      ]
     },
     "metadata": {
      "needs_background": "light"
     },
     "output_type": "display_data"
    }
   ],
   "source": [
    "plot_results(best_model, feature_df, target_df)"
   ]
  },
  {
   "cell_type": "markdown",
   "id": "a660c2b9",
   "metadata": {},
   "source": [
    "### Save Results and Best Model"
   ]
  },
  {
   "cell_type": "code",
   "execution_count": 268,
   "id": "eba2db8c",
   "metadata": {},
   "outputs": [
    {
     "name": "stdout",
     "output_type": "stream",
     "text": [
      "Save model and featue importances\n"
     ]
    },
    {
     "data": {
      "image/png": "[encoded data removed]",
      "text/plain": [
       "<Figure size 1080x576 with 1 Axes>"
      ]
     },
     "metadata": {
      "needs_background": "light"
     },
     "output_type": "display_data"
    }
   ],
   "source": [
    "# Save feature importances\n",
    "print(\"Save model and featue importances\")\n",
    "importances = best_model.feature_importances_\n",
    "feature_importances = pd.DataFrame({'feature':feature_df.columns, 'importance':importances})\n",
    "feature_importances.sort_values(by='importance', ascending=False, inplace=True)\n",
    "feature_importances.set_index('feature', inplace=True, drop=True)\n",
    "\n",
    "# plot feature importances\n",
    "feature_importances[0:15].plot.bar(figsize=(15,8))\n",
    "plt.show()\n",
    "\n",
    "#save feature encoder, model and  results\n",
    "save_results(best_model, ct, roc_auc_dict[model], feature_importances, model_dir)"
   ]
  }
 ],
 "metadata": {
  "interpreter": {
   "hash": "a3ac23902977b6d58c037c74eb1840220cfa2522d52db2655032de23fe48a39c"
  },
  "kernelspec": {
   "display_name": "Python 3 (ipykernel)",
   "language": "python",
   "name": "python3"
  },
  "language_info": {
   "codemirror_mode": {
    "name": "ipython",
    "version": 3
   },
   "file_extension": ".py",
   "mimetype": "text/x-python",
   "name": "python",
   "nbconvert_exporter": "python",
   "pygments_lexer": "ipython3",
   "version": "3.8.10"
  }
 },
 "nbformat": 4,
 "nbformat_minor": 5
}
